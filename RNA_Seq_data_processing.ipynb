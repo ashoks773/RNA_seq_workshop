{
 "cells": [
  {
   "cell_type": "code",
   "execution_count": 4,
   "id": "88028fca",
   "metadata": {},
   "outputs": [],
   "source": [
    "#--- RNA-seq Data Analysis Tutorial\n",
    "# By: Ashok K. Sharma, Date: 3rd Oct, 2021\n",
    "\n",
    "#-- Packages needs to be installed before Data Processing\n",
    "#install.packages (\"pheatmap\")\n",
    "#install.packages (\"NMF\")\n",
    "#install.packages(\"pgirmess\") #-- There is a problem in the installation of This packages\n",
    "#install.packages (\"ggrepel\")\n",
    "#install.packages (\"RColorBrewer\")\n",
    "\n",
    "#install.packages('BiocManager')\n",
    "#library (BiocManager)\n",
    "#BiocManager::install('DESeq2')\n",
    "#BiocManager::install('EnhancedVolcano')\n",
    "#BiocManager::install(\"variancePartition\")\n"
   ]
  },
  {
   "cell_type": "code",
   "execution_count": 1,
   "id": "be12a59b",
   "metadata": {},
   "outputs": [],
   "source": [
    "library (pheatmap)\n",
    "library (ggplot2)\n",
    "library (NMF)\n",
    "library (variancePartition)\n",
    "library (EnhancedVolcano)\n",
    "library (ggrepel)\n",
    "library (RColorBrewer)\n",
    "library (DESeq2)\n",
    "#library (pgirmess)"
   ]
  },
  {
   "cell_type": "code",
   "execution_count": 2,
   "id": "14751ce8",
   "metadata": {},
   "outputs": [],
   "source": [
    "#packageVersion(\"Rcpp\")\n",
    "list.files () #Look what files are there in the Main directory"
   ]
  },
  {
   "cell_type": "code",
   "execution_count": 1,
   "id": "f5a824f9",
   "metadata": {},
   "outputs": [],
   "source": [
    "#--- Load All three files: 1. Count Data, 2. Metadata and 3. Length of genes\n",
    "Gene_counts <- read.csv(file = \"GSE81266-expression.txt.txt\", sep = \"\\t\", row.names = 1, header = T)\n",
    "metadata <- read.csv(file = \"GSE81266-metadata.txt.txt\", sep = \"\\t\", row.names = 1, header = T)\n",
    "Gene_length <- read.csv(file = \"GSE81266-genelength.txt.txt\", sep = \"\\t\", header = T)"
   ]
  },
  {
   "cell_type": "code",
   "execution_count": 5,
   "id": "db439c85",
   "metadata": {},
   "outputs": [],
   "source": [
    "ls () #Look what files are Loaded in R"
   ]
  },
  {
   "cell_type": "code",
   "execution_count": 6,
   "id": "fc6e3fe7",
   "metadata": {},
   "outputs": [],
   "source": [
    "head(Gene_counts)\n",
    "head (metadata)\n",
    "head (Gene_length)\n",
    "# Sort by vector name [z]\n",
    "#dataframe[with(dataframe, order(z)),]"
   ]
  },
  {
   "cell_type": "code",
   "execution_count": 7,
   "id": "5debcc22",
   "metadata": {},
   "outputs": [],
   "source": [
    "#Check the sturcture of Data: Obervations will be in the Row and Variables will be in the columns\n",
    "str (Gene_counts)\n",
    "str (metadata)"
   ]
  },
  {
   "cell_type": "code",
   "execution_count": 8,
   "id": "02f3eacc",
   "metadata": {},
   "outputs": [],
   "source": [
    "#-- Make sure Samples names are in the same order\n",
    "colnames(Gene_counts)\n",
    "row.names(metadata)"
   ]
  },
  {
   "cell_type": "code",
   "execution_count": 9,
   "id": "a8929274",
   "metadata": {},
   "outputs": [],
   "source": [
    "#--- Counts number of reads mapped to Genes in Each sample\n",
    "#colSums (Gene_counts)\n",
    "depth <- colSums(Gene_counts)\n",
    "#depth <- data.frame (depth)\n",
    "head (depth)\n",
    "barplot(depth, las=2, cex.names=.5)"
   ]
  },
  {
   "cell_type": "code",
   "execution_count": 10,
   "id": "5f108efd",
   "metadata": {},
   "outputs": [],
   "source": [
    "#---- Check the differences in the expression of any one Genes among Healthy and Pouchitis\n",
    "Gene_counts_t <- data.frame(t(Gene_counts))\n",
    "row.names (Gene_counts_t)\n",
    "boxplot (Gene_counts_t$A1BG ~ metadata$prognosis)"
   ]
  },
  {
   "cell_type": "code",
   "execution_count": 2,
   "id": "bafdd788",
   "metadata": {},
   "outputs": [],
   "source": [
    "#- These are Raw counts which shows expression seems little Higher in Helahty in comparision to FAP and Pouchitis\n",
    "#-- Now we will try to Normalize this data (TPM Counts): Why this is important?\n",
    "\n",
    "#Divide the read counts by the length of each gene in kilobases. This gives you reads per kilobase (RPK).\n",
    "#Count up all the RPK values in a sample and divide this number by 1,000,000. This is your “per million” scaling factor.\n",
    "#Divide the RPK values by the “per million” scaling factor. This gives you TPM.\n",
    "\n",
    "r_tpm <- function(dfr,len)\n",
    "{\n",
    "  dfr1 <- sweep(dfr,MARGIN=1,(len/10^4),`/`)\n",
    "  scf <- colSums(dfr1)/(10^6)\n",
    "  return(sweep(dfr1,2,scf,`/`))\n",
    "}"
   ]
  },
  {
   "cell_type": "code",
   "execution_count": 3,
   "id": "d1ac3f33",
   "metadata": {},
   "outputs": [],
   "source": [
    "Gene_counts_TPM <- r_tpm(Gene_counts, Gene_length$gene_length)"
   ]
  },
  {
   "cell_type": "code",
   "execution_count": 11,
   "id": "9c178e6f",
   "metadata": {},
   "outputs": [],
   "source": [
    "colSums(Gene_counts) # Check counts of reads mapped to genes in each sample\n",
    "colSums(Gene_counts_TPM) # Check normalized counts of reads mapped to genes in each sample"
   ]
  },
  {
   "cell_type": "code",
   "execution_count": 5,
   "id": "9c9eb37e",
   "metadata": {},
   "outputs": [],
   "source": [
    "#---- Check the differences in the expression of any one Genes among Healthy and Pouchitis\n",
    "Gene_counts_TPM_t <- data.frame(t(Gene_counts_TPM))\n",
    "row.names (Gene_counts_TPM_t)\n",
    "boxplot (Gene_counts_TPM_t$A1BG ~ metadata$prognosis)"
   ]
  },
  {
   "cell_type": "code",
   "execution_count": 13,
   "id": "79bf0329",
   "metadata": {},
   "outputs": [],
   "source": [
    "#--- See the Effect of Normalization and Why it is Important;\n",
    "boxplot (Gene_counts_t$A1BG ~ metadata$prognosis)\n",
    "boxplot (Gene_counts_TPM_t$A1BG ~ metadata$prognosis)"
   ]
  },
  {
   "cell_type": "code",
   "execution_count": 15,
   "id": "de3f1582",
   "metadata": {},
   "outputs": [],
   "source": [
    "#--To make these colors little more beautifiul with colours and expression of this gene in Each sample:\n",
    "Color <- c(\"blue\", \"darkgreen\", \"darkred\")\n",
    "boxplot (Gene_counts_t$A1BG ~ metadata$prognosis, col=Color, ylab=\"Gene counts\") +\n",
    "stripchart(Gene_counts_t$A1BG ~ metadata$prognosis, vertical = TRUE, method = \"jitter\", add = TRUE, pch = 20, col = 'black')\n",
    "\n",
    "boxplot (Gene_counts_TPM_t$A1BG ~ metadata$prognosis, col=Color, ylab=\"Gene counts normalized  (TPM)\") +\n",
    "stripchart(Gene_counts_TPM_t$A1BG ~ metadata$prognosis, vertical = TRUE, method = \"jitter\", add = TRUE, pch = 20, col = 'black')"
   ]
  },
  {
   "cell_type": "code",
   "execution_count": 35,
   "id": "3e73d96d",
   "metadata": {},
   "outputs": [],
   "source": [
    "#---- Save the Normalized TPM Counts If you would like to use them in Future\n",
    "write.table(Gene_counts_TPM, file=\"Gene_counts_TPM.txt\", sep = \"\\t\")"
   ]
  },
  {
   "cell_type": "code",
   "execution_count": 16,
   "id": "c1c896ec",
   "metadata": {},
   "outputs": [],
   "source": [
    "list.files () #Look what files are there in the Main directory"
   ]
  },
  {
   "cell_type": "code",
   "execution_count": 17,
   "id": "d106cfd7",
   "metadata": {},
   "outputs": [],
   "source": [
    "# Don't forget to Check the row.names should be in the same Order\n",
    "row.names (metadata)\n",
    "row.names (Gene_counts_t)\n",
    "row.names (Gene_counts_TPM_t)"
   ]
  },
  {
   "cell_type": "code",
   "execution_count": 18,
   "id": "8fda549b",
   "metadata": {},
   "outputs": [],
   "source": [
    "#----- Data Analysis ----\n",
    "#- Now you know the data structure. And how to play with one gene at a time. Let's start doing little bit more complicated analysis\n",
    "\n",
    "################\n",
    "##-- Clustering\n",
    "################\n",
    "dim(Gene_counts_TPM)\n",
    "rn<-nrow(Gene_counts_TPM)\n",
    "m<-unique(sample(rn, 1000))\n",
    "rand_data<-Gene_counts_TPM[m,]\n",
    "d <- dist(t(rand_data), method = \"euclidean\")\n",
    "\n",
    "#for(i in 1:9999){\n",
    "#  m<-unique(sample(rn, 1000))\n",
    "#  rand_data<-Gene_counts_TPM[m,]\n",
    "#  d <-d+ dist(t(rand_data), method = \"euclidean\")\t\n",
    "  \n",
    "#}\n",
    "#d1<-d/100000\n",
    "\n",
    "fit <- hclust(sqrt(d), method=\"ward.D2\") \n",
    "plot(fit)\n"
   ]
  },
  {
   "cell_type": "code",
   "execution_count": 17,
   "id": "5bf28a69",
   "metadata": {},
   "outputs": [
    {
     "data": {
      "text/html": [
       "<ol class=list-inline>\n",
       "\t<li>35238</li>\n",
       "\t<li>77</li>\n",
       "</ol>\n"
      ],
      "text/latex": [
       "\\begin{enumerate*}\n",
       "\\item 35238\n",
       "\\item 77\n",
       "\\end{enumerate*}\n"
      ],
      "text/markdown": [
       "1. 35238\n",
       "2. 77\n",
       "\n",
       "\n"
      ],
      "text/plain": [
       "[1] 35238    77"
      ]
     },
     "metadata": {},
     "output_type": "display_data"
    },
    {
     "name": "stderr",
     "output_type": "stream",
     "text": [
      "converting counts to integer mode\n",
      "estimating size factors\n",
      "estimating dispersions\n",
      "gene-wise dispersion estimates\n",
      "mean-dispersion relationship\n",
      "final dispersion estimates\n",
      "fitting model and testing\n",
      "-- replacing outliers and refitting for 107 genes\n",
      "-- DESeq argument 'minReplicatesForReplace' = 7 \n",
      "-- original counts are preserved in counts(dds)\n",
      "estimating dispersions\n",
      "fitting model and testing\n"
     ]
    }
   ],
   "source": [
    "######################################\n",
    "#---- DESeq - Differential Expression\n",
    "######################################\n",
    "# For this analysis we will not use TPM we will use only Counts; Because DESeq will do its own normalization\n",
    "library (DESeq2)\n",
    "dim(Gene_counts)\n",
    "Gene_counts1<-round(Gene_counts)\n",
    "\n",
    "Gene_counts_Factor <- DESeqDataSetFromMatrix(Gene_counts1, colData=metadata,design= ~prognosis)\n",
    "Gene_counts_Factor <- DESeq(Gene_counts_Factor)\n",
    "\n",
    "Gene_counts_Factor_vsd <- varianceStabilizingTransformation(Gene_counts_Factor,blind=FALSE)\n",
    "#write.csv(assay(Gene_counts_Factor_vsd),file=\"Outputs/Gene_counts_Factor_vsd_DESEq2.csv\")\n",
    "\n",
    "#--- Different Way to Save VSDs\n",
    "Gene_counts_Factor_vsd_df <- data.frame(assay(Gene_counts_Factor_vsd))\n",
    "#write.table(Gene_counts_Factor_vsd_df, file=\"Outputs/Gene_counts_Factor_vsd_DESEq2.txt\", sep = \"\\t\")\n"
   ]
  },
  {
   "cell_type": "code",
   "execution_count": 19,
   "id": "33a00d3c",
   "metadata": {},
   "outputs": [],
   "source": [
    "head (Gene_counts_Factor_vsd_df)\n",
    "#-- Transform the VSD counts to make BoxPLOT\n",
    "\n",
    "Gene_counts_Factor_vsd_df_t <- data.frame (t(Gene_counts_Factor_vsd_df))\n",
    "\n",
    "#--- Check if VSD normalization is giving similar pattern to TPM?\n",
    "boxplot (Gene_counts_Factor_vsd_df_t$A1BG ~ metadata$prognosis, col=Color, ylab=\"Gene counts normalized  (VSD)\") +\n",
    "stripchart(Gene_counts_Factor_vsd_df_t$A1BG ~ metadata$prognosis, vertical = TRUE, method = \"jitter\", add = TRUE, pch = 20, col = 'black')\n"
   ]
  },
  {
   "cell_type": "code",
   "execution_count": 69,
   "id": "27ee1e47",
   "metadata": {},
   "outputs": [],
   "source": [
    "#---- Optional Step\n",
    "#--- If Needed then Merge the Count data with Metadata to Filter specific columns\n",
    "Genes_vsd_meta <- merge(metadata, Gene_counts_Factor_vsd_df_t, by=0, all=F)\n",
    "rownames(Genes_vsd_meta) <- Genes_vsd_meta$Row.names; Genes_vsd_meta$Row.names <- NULL"
   ]
  },
  {
   "cell_type": "code",
   "execution_count": 12,
   "id": "9ea6506b",
   "metadata": {},
   "outputs": [],
   "source": [
    "head (Gene_counts_Factor_vsd_df_t)\n",
    "head (Genes_vsd_meta)"
   ]
  },
  {
   "cell_type": "code",
   "execution_count": 18,
   "id": "5ac96f36",
   "metadata": {},
   "outputs": [],
   "source": [
    "#---------------------------------\n",
    "#-- Differentially Expressed Genes\n",
    "#---------------------------------\n",
    "#Gene_counts_Factor_diff <- results(Gene_counts_Factor,contrast=c(\"prognosis\", \"Pouchitis\", \"Healthy\"),filterFun=ihw)\n",
    "#--Other method\n",
    "Gene_counts_Factor_diff = results(Gene_counts_Factor, contrast=c(\"prognosis\", \"Pouchitis\", \"Healthy\"), alpha = 0.05, pAdjustMethod = \"BH\")\n",
    "#write.table(Gene_counts_Factor_diff,file = \"Results_DifferentialExpression.txt\",row.names = TRUE,col.names = NA,append = FALSE, quote = FALSE, sep = \"\\t\",eol = \"\\n\", na = \"NA\", dec = \".\")\n"
   ]
  },
  {
   "cell_type": "code",
   "execution_count": 20,
   "id": "1d231eeb",
   "metadata": {},
   "outputs": [],
   "source": [
    "Gene_counts_Factor_diff\n",
    "Gene_counts_Factor_diff = Gene_counts_Factor_diff[order(Gene_counts_Factor_diff$pvalue),]\n",
    "summary(Gene_counts_Factor_diff)\n"
   ]
  },
  {
   "cell_type": "code",
   "execution_count": 21,
   "id": "3c30d79a",
   "metadata": {},
   "outputs": [],
   "source": [
    "#-- Sort based on Log2 Fold Changes\n",
    "Gene_counts_Factor_diff[with(Gene_counts_Factor_diff, order(log2FoldChange)),]\n",
    "#-- Sort based on pvalue\n",
    "Gene_counts_Factor_diff[with(Gene_counts_Factor_diff, order(pvalue)),]\n"
   ]
  },
  {
   "cell_type": "code",
   "execution_count": 22,
   "id": "0a9a3218",
   "metadata": {},
   "outputs": [],
   "source": [
    "#-- Now Check the Expression of Gene which is Highly Expressed in Healthy RP11-1070B7.2 (Replace - with . in Gname)\n",
    "boxplot (Gene_counts_Factor_vsd_df_t$IGHGP ~ metadata$prognosis, col=Color, ylab=\"Gene counts normalized  (VSD)\") +\n",
    "stripchart(Gene_counts_Factor_vsd_df_t$IGHGP ~ metadata$prognosis, vertical = TRUE, method = \"jitter\", add = TRUE, pch = 20, col = 'black')"
   ]
  },
  {
   "cell_type": "code",
   "execution_count": 23,
   "id": "dd5c3fca",
   "metadata": {},
   "outputs": [],
   "source": [
    "#--- Now this is a very Tidious and Time Consuming task to Look for Each Gene. \n",
    "# So Let's do something Quick to Get all the Genes which with high fold changes and Significance\n",
    "#-- If you remember we have stored Differential Expressed Genes Result in ***Gene_counts_Factor_diff*** file \n",
    "#-- If you forget What comparisons you have made. Then look at the components of This File\n",
    "\n",
    "#library (EnhancedVolcano)\n",
    "EnhancedVolcano(Gene_counts_Factor_diff,\n",
    "    lab = rownames(Gene_counts_Factor_diff),\n",
    "    x = 'log2FoldChange',\n",
    "    y = 'pvalue')\n",
    "\n",
    "  EnhancedVolcano(Gene_counts_Factor_diff,\n",
    "   lab = rownames(Gene_counts_Factor_diff),\n",
    "    x = 'log2FoldChange',\n",
    "    y = 'pvalue',\n",
    "    title = 'Pouchitis vs Healthy ',\n",
    "    pCutoff = 0.05,\n",
    "    FCcutoff = 0.5,\n",
    "    pointSize = 3.0,\n",
    "    labSize = 6.0)"
   ]
  },
  {
   "cell_type": "code",
   "execution_count": 24,
   "id": "7cfd3c0f",
   "metadata": {},
   "outputs": [],
   "source": [
    "#############################################\n",
    "#--Downstream analysis such as HEATMAP, PCA\n",
    "############################################\n",
    "#-- This analysis will be performed on VSD counts\n",
    "#-- Randomly select VSD counts of 500 genes \n",
    "\n",
    "dim(Gene_counts_Factor_vsd_df)\n",
    "rn<-nrow(Gene_counts_Factor_vsd_df)\n",
    "m<-unique(sample(rn, 500))\n",
    "rand_data<-Gene_counts_Factor_vsd_df[m,]\n",
    "head (rand_data)\n",
    "str (rand_data)"
   ]
  },
  {
   "cell_type": "code",
   "execution_count": 25,
   "id": "aa9ef854",
   "metadata": {},
   "outputs": [],
   "source": [
    "#-- Get epithelial cell proportions From The deconvolution file and Add this in the Metadata\n",
    "cell_proportions <- read.csv(file = \"Predicted_cell_type_Composition.tsv\", sep = \"\\t\", header = T, row.names = 1)\n",
    "epithelial_cell <- cell_proportions$Epithelial_cell\n",
    "epithelial_cell <- data.frame(epithelial_cell)\n",
    "#--- Prepare a New Metadata to Add Epithelial Cells\n",
    "metadata_new <- cbind(metadata, epithelial_cell)\n",
    "rownames(metadata_new)<- rownames(metadata_new)\n",
    "head (metadata_new)"
   ]
  },
  {
   "cell_type": "code",
   "execution_count": 26,
   "id": "8ebb0ff9",
   "metadata": {},
   "outputs": [],
   "source": [
    "#--- Before generating HeatMap again check the row.names in new metadata and columnnames in rand_data are in the same order\n",
    "row.names (metadata_new)\n",
    "colnames (rand_data)"
   ]
  },
  {
   "cell_type": "code",
   "execution_count": 27,
   "id": "d2913bf3",
   "metadata": {},
   "outputs": [
    {
     "ename": "ERROR",
     "evalue": "Error in parse(text = x, srcfile = src): <text>:16:58: unexpected ','\n15: #thisheat <- pheatmap(sampleDistMatrix,\n16:                      clustering_distance_rows=sampleDists,\n                                                             ^\n",
     "output_type": "error",
     "traceback": [
      "Error in parse(text = x, srcfile = src): <text>:16:58: unexpected ','\n15: #thisheat <- pheatmap(sampleDistMatrix,\n16:                      clustering_distance_rows=sampleDists,\n                                                             ^\nTraceback:\n"
     ]
    }
   ],
   "source": [
    "#################################\n",
    "#---- Generate SampleWise HeatMap\n",
    "##################################\n",
    "library(RColorBrewer)\n",
    "library(\"pheatmap\")\n",
    "metadata_filtered <- metadata_new[,c(2,5,7:9)]\n",
    "\n",
    "#--- Sample data using only random 500 genes\n",
    "sampleDists <- dist(t(rand_data))\n",
    "sampleDistMatrix <- as.matrix(sampleDists)\n",
    "rownames(sampleDistMatrix) <- rownames(metadata_filtered)\n",
    "colnames(sampleDistMatrix) <- rownames(metadata_filtered)\n",
    "colors <- colorRampPalette( rev(brewer.pal(9, \"Blues\")) )(255)\n",
    "\n",
    "thisheat <- pheatmap(sampleDistMatrix,\n",
    "                     clustering_distance_rows=sampleDists,\n",
    "                     clustering_distance_cols=sampleDists,\n",
    "                     col=colors, annotation_row= metadata_filtered, show_rownames =FALSE,show_colnames = TRUE,legend = TRUE,legend.cex = .05)\n"
   ]
  },
  {
   "cell_type": "code",
   "execution_count": 28,
   "id": "6188e021",
   "metadata": {},
   "outputs": [],
   "source": [
    "###################\n",
    "#---- PCA Analysis\n",
    "###################\n",
    "pcarip <- prcomp(t(rand_data))\n",
    "\n",
    "#percent variance for each component\n",
    "percentVar <- round(100*pcarip$sdev^2/sum(pcarip$sdev^2))\n",
    "\n",
    "#retrieve the samples coordinates, and the loadings for each gene in each component\n",
    "aloadrip <- abs(pcarip$rotation)\n",
    "ripaloadrelative <- sweep(aloadrip, 2, colSums(aloadrip), \"/\")\n",
    "#create data frame for plotting\n",
    "pcaALL <- pcarip$x\n",
    "pcaR<- data.frame(pcaALL[,1:2],metadata_filtered)\n",
    "\n",
    "#plot with sample labels\n",
    "library(ggrepel)\n",
    "#jpeg(\"Outputs/pca.jpg\", height = 7, width = 7, units = 'in', res = 600)\n",
    "ggplot(pcaR, aes(PC1, PC2, color= prognosis, shape=Sex)) + geom_point(alpha=0.6,stroke = 3)+\n",
    "  xlab(paste0(\"PC1: \",percentVar[1],\"% variance\")) +\n",
    "  ylab(paste0(\"PC2: \",percentVar[2],\"% variance\")) +\n",
    "  coord_fixed()  +theme_bw()\n",
    "#dev.off ()"
   ]
  },
  {
   "cell_type": "code",
   "execution_count": 29,
   "id": "762d851b",
   "metadata": {},
   "outputs": [],
   "source": [
    "#----- If By anyMethod - like PCA, Variance partition, differential Expression You have found few Genes which are Significantly Discriminating\n",
    "#---- Can you pick Those Genes and Make a HeatMap of Those selected Genes\"\"\n",
    "Sel_genes <- c('UGT2B17', 'GSTM1', 'XRRA1', 'AKR1B15', 'DDTL', 'GBP3', 'DSG3', 'CYP4F11', 'DMRTA1', 'ERAP2', 'MYADML2', 'GRSF1', 'HOXA13', 'BTN3A2', 'UGT3A1', 'GSTM3', 'ARL17B', \"IL26\", \"HLA.G\")\n",
    "# In this file VSD nomralized Counts were there head (Gene_counts_Factor_vsd_df_t)\n",
    "Sel_genes_vsd <- Gene_counts_Factor_vsd_df_t[Sel_genes]\n",
    "str (Sel_genes_vsd)"
   ]
  },
  {
   "cell_type": "code",
   "execution_count": 30,
   "id": "665c4fc3",
   "metadata": {},
   "outputs": [],
   "source": [
    "#- Again check the row.names in metadata_final and this file\n",
    "row.names (metadata_filtered)\n",
    "row.names (Sel_genes_vsd)"
   ]
  },
  {
   "cell_type": "code",
   "execution_count": 31,
   "id": "cd7dacd8",
   "metadata": {},
   "outputs": [
    {
     "ename": "ERROR",
     "evalue": "Error in parse(text = x, srcfile = src): <text>:5:29: unexpected ','\n4: #check <- pheatmap(Sel_genes_vsd, scale = \"column\",\n5:                   col=colors,\n                               ^\n",
     "output_type": "error",
     "traceback": [
      "Error in parse(text = x, srcfile = src): <text>:5:29: unexpected ','\n4: #check <- pheatmap(Sel_genes_vsd, scale = \"column\",\n5:                   col=colors,\n                               ^\nTraceback:\n"
     ]
    }
   ],
   "source": [
    "colors <- colorRampPalette( rev(brewer.pal(9, \"Blues\")) )(255)\n",
    "\n",
    "#jpeg(\"Figures/SelectedGenes_ResidualsModelA_HeatMap.jpg\", height =11, width = 11, units = 'in', res = 600)\n",
    "check <- pheatmap(Sel_genes_vsd, scale = \"column\",\n",
    "                  col=colors, annotation_row= metadata_filtered, show_rownames =FALSE,show_colnames = TRUE,legend = TRUE,legend.cex = .05)\n",
    "#dev.off ()"
   ]
  },
  {
   "cell_type": "code",
   "execution_count": null,
   "id": "ff032748",
   "metadata": {},
   "outputs": [],
   "source": [
    "#---- Now you need to Select the Genes based on pvlues, fold changes of variance partitions.\n",
    "#-- There are Many more things which can be done.\n",
    "#-- Sel around 600 Genes from Results_DifferentialExpression.txt file Based on p-values\n",
    "# Important genes can be used to do pathway analysis - metascape\n",
    "#https://metascape.org/gp/index.html#/main/step1"
   ]
  },
  {
   "cell_type": "code",
   "execution_count": 18,
   "id": "5c350349",
   "metadata": {},
   "outputs": [],
   "source": [
    "#-- If you are Interested and would like to use Machine Learning on Expression data:\n",
    "#-- If ChemBioIT will organize furhter courses then I would be happy to deliver this lecture."
   ]
  },
  {
   "cell_type": "code",
   "execution_count": 22,
   "id": "bad2028f",
   "metadata": {},
   "outputs": [
    {
     "name": "stderr",
     "output_type": "stream",
     "text": [
      "\n"
     ]
    },
    {
     "data": {
      "text/html": [
       "<ol class=list-inline>\n",
       "\t<li>'ACCNUM'</li>\n",
       "\t<li>'ALIAS'</li>\n",
       "\t<li>'ENSEMBL'</li>\n",
       "\t<li>'ENSEMBLPROT'</li>\n",
       "\t<li>'ENSEMBLTRANS'</li>\n",
       "\t<li>'ENTREZID'</li>\n",
       "\t<li>'ENZYME'</li>\n",
       "\t<li>'EVIDENCE'</li>\n",
       "\t<li>'EVIDENCEALL'</li>\n",
       "\t<li>'GENENAME'</li>\n",
       "\t<li>'GO'</li>\n",
       "\t<li>'GOALL'</li>\n",
       "\t<li>'IPI'</li>\n",
       "\t<li>'MAP'</li>\n",
       "\t<li>'OMIM'</li>\n",
       "\t<li>'ONTOLOGY'</li>\n",
       "\t<li>'ONTOLOGYALL'</li>\n",
       "\t<li>'PATH'</li>\n",
       "\t<li>'PFAM'</li>\n",
       "\t<li>'PMID'</li>\n",
       "\t<li>'PROSITE'</li>\n",
       "\t<li>'REFSEQ'</li>\n",
       "\t<li>'SYMBOL'</li>\n",
       "\t<li>'UCSCKG'</li>\n",
       "\t<li>'UNIGENE'</li>\n",
       "\t<li>'UNIPROT'</li>\n",
       "</ol>\n"
      ],
      "text/latex": [
       "\\begin{enumerate*}\n",
       "\\item 'ACCNUM'\n",
       "\\item 'ALIAS'\n",
       "\\item 'ENSEMBL'\n",
       "\\item 'ENSEMBLPROT'\n",
       "\\item 'ENSEMBLTRANS'\n",
       "\\item 'ENTREZID'\n",
       "\\item 'ENZYME'\n",
       "\\item 'EVIDENCE'\n",
       "\\item 'EVIDENCEALL'\n",
       "\\item 'GENENAME'\n",
       "\\item 'GO'\n",
       "\\item 'GOALL'\n",
       "\\item 'IPI'\n",
       "\\item 'MAP'\n",
       "\\item 'OMIM'\n",
       "\\item 'ONTOLOGY'\n",
       "\\item 'ONTOLOGYALL'\n",
       "\\item 'PATH'\n",
       "\\item 'PFAM'\n",
       "\\item 'PMID'\n",
       "\\item 'PROSITE'\n",
       "\\item 'REFSEQ'\n",
       "\\item 'SYMBOL'\n",
       "\\item 'UCSCKG'\n",
       "\\item 'UNIGENE'\n",
       "\\item 'UNIPROT'\n",
       "\\end{enumerate*}\n"
      ],
      "text/markdown": [
       "1. 'ACCNUM'\n",
       "2. 'ALIAS'\n",
       "3. 'ENSEMBL'\n",
       "4. 'ENSEMBLPROT'\n",
       "5. 'ENSEMBLTRANS'\n",
       "6. 'ENTREZID'\n",
       "7. 'ENZYME'\n",
       "8. 'EVIDENCE'\n",
       "9. 'EVIDENCEALL'\n",
       "10. 'GENENAME'\n",
       "11. 'GO'\n",
       "12. 'GOALL'\n",
       "13. 'IPI'\n",
       "14. 'MAP'\n",
       "15. 'OMIM'\n",
       "16. 'ONTOLOGY'\n",
       "17. 'ONTOLOGYALL'\n",
       "18. 'PATH'\n",
       "19. 'PFAM'\n",
       "20. 'PMID'\n",
       "21. 'PROSITE'\n",
       "22. 'REFSEQ'\n",
       "23. 'SYMBOL'\n",
       "24. 'UCSCKG'\n",
       "25. 'UNIGENE'\n",
       "26. 'UNIPROT'\n",
       "\n",
       "\n"
      ],
      "text/plain": [
       " [1] \"ACCNUM\"       \"ALIAS\"        \"ENSEMBL\"      \"ENSEMBLPROT\"  \"ENSEMBLTRANS\"\n",
       " [6] \"ENTREZID\"     \"ENZYME\"       \"EVIDENCE\"     \"EVIDENCEALL\"  \"GENENAME\"    \n",
       "[11] \"GO\"           \"GOALL\"        \"IPI\"          \"MAP\"          \"OMIM\"        \n",
       "[16] \"ONTOLOGY\"     \"ONTOLOGYALL\"  \"PATH\"         \"PFAM\"         \"PMID\"        \n",
       "[21] \"PROSITE\"      \"REFSEQ\"       \"SYMBOL\"       \"UCSCKG\"       \"UNIGENE\"     \n",
       "[26] \"UNIPROT\"     "
      ]
     },
     "metadata": {},
     "output_type": "display_data"
    }
   ],
   "source": [
    "#BiocManager::install(\"org.Hs.eg.db\")\n",
    "library(\"AnnotationDbi\")\n",
    "library(\"org.Hs.eg.db\")\n",
    "columns(org.Hs.eg.db)"
   ]
  },
  {
   "cell_type": "code",
   "execution_count": null,
   "id": "76504bd3",
   "metadata": {},
   "outputs": [],
   "source": [
    "# Follow this link - If teaching this part in R\n",
    "# https://www.r-bloggers.com/2015/12/tutorial-rna-seq-differential-expression-pathway-analysis-with-sailfish-deseq2-gage-and-pathview/\n",
    "res$symbol = mapIds(org.Hs.eg.db,\n",
    "                     keys=row.names(res), \n",
    "                     column=\"SYMBOL\",\n",
    "                     keytype=\"ENSEMBL\",\n",
    "                     multiVals=\"first\")"
   ]
  }
 ],
 "metadata": {
  "kernelspec": {
   "display_name": "R",
   "language": "R",
   "name": "ir"
  },
  "language_info": {
   "codemirror_mode": "r",
   "file_extension": ".r",
   "mimetype": "text/x-r-source",
   "name": "R",
   "pygments_lexer": "r",
   "version": "3.6.1"
  }
 },
 "nbformat": 4,
 "nbformat_minor": 5
}
